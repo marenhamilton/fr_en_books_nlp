{
 "cells": [
  {
   "cell_type": "code",
   "execution_count": 2,
   "metadata": {},
   "outputs": [],
   "source": [
    "import pandas as pd\n",
    "from nltk.tokenize import word_tokenize,sent_tokenize\n",
    "from nltk.translate import phrase_based\n",
    "from nltk.corpus import stopwords\n",
    "import re\n",
    "import string\n",
    "from IPython.display import clear_output\n",
    "from gensim.utils import lemmatize\n",
    "import spacy"
   ]
  },
  {
   "cell_type": "code",
   "execution_count": 3,
   "metadata": {},
   "outputs": [],
   "source": [
    "# get spacy in for english\n",
    "nlp = spacy.load('en', disable=['parser', 'ner'])"
   ]
  },
  {
   "cell_type": "code",
   "execution_count": 6,
   "metadata": {},
   "outputs": [],
   "source": [
    "english = pd.read_csv('./Frames/eng.csv',index_col=0)"
   ]
  },
  {
   "cell_type": "code",
   "execution_count": 8,
   "metadata": {},
   "outputs": [
    {
     "name": "stdout",
     "output_type": "stream",
     "text": [
      "3036\n"
     ]
    }
   ],
   "source": [
    "count = 0\n",
    "for i in range(len(english)) :\n",
    "    trial_text = english.loc[i,'text']\n",
    "    \n",
    "    # remove digits\n",
    "    trial_text = re.sub('\\w*\\d\\w*',' ', trial_text)\n",
    "    \n",
    "    # sentence tokenise, lemmetisation, and removal of named entities and pronouns\n",
    "    by_sent = sent_tokenize(trial_text)\n",
    "    lem_text = []\n",
    "    for sent in by_sent :\n",
    "        lemmed = nlp(sent)\n",
    "        lemmed = ' '.join([token.lemma_ for token in lemmed if token.lemma_ != '-PRON-' and 'NNP' not in token.tag_])\n",
    "        lem_text.append(lemmed)\n",
    "    trial_text = ' '.join(lem_text)\n",
    "    \n",
    "    #lowercase\n",
    "    trial_text = trial_text.lower()\n",
    "    \n",
    "    # remove punctuation\n",
    "    trial_text = re.sub('[%s]' %re.escape (string.punctuation),' ',trial_text)\n",
    "\n",
    "    #add in clean text\n",
    "    english.loc[i,'clean'] = trial_text\n",
    "    count+=1\n",
    "    clear_output()\n",
    "    print(count) #so I know how many texts have been cleaned"
   ]
  },
  {
   "cell_type": "code",
   "execution_count": 9,
   "metadata": {},
   "outputs": [],
   "source": [
    "# export to csv\n",
    "english.to_csv('eng_clean.csv')"
   ]
  }
 ],
 "metadata": {
  "kernelspec": {
   "display_name": "Python 3",
   "language": "python",
   "name": "python3"
  },
  "language_info": {
   "codemirror_mode": {
    "name": "ipython",
    "version": 3
   },
   "file_extension": ".py",
   "mimetype": "text/x-python",
   "name": "python",
   "nbconvert_exporter": "python",
   "pygments_lexer": "ipython3",
   "version": "3.7.1"
  }
 },
 "nbformat": 4,
 "nbformat_minor": 2
}
