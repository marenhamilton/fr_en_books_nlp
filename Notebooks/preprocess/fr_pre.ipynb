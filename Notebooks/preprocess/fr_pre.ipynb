{
 "cells": [
  {
   "cell_type": "code",
   "execution_count": 1,
   "metadata": {},
   "outputs": [],
   "source": [
    "import pandas as pd\n",
    "from nltk.tokenize import word_tokenize,sent_tokenize\n",
    "from nltk.translate import phrase_based\n",
    "from nltk.corpus import stopwords\n",
    "import re\n",
    "import string\n",
    "import spacy\n",
    "from IPython.display import clear_output"
   ]
  },
  {
   "cell_type": "code",
   "execution_count": 2,
   "metadata": {},
   "outputs": [],
   "source": [
    "# load in spacy french\n",
    "nlp = spacy.load('fr')"
   ]
  },
  {
   "cell_type": "code",
   "execution_count": 6,
   "metadata": {},
   "outputs": [],
   "source": [
    "french = pd.read_csv('./Frames/french.csv',index_col=0)"
   ]
  },
  {
   "cell_type": "markdown",
   "metadata": {},
   "source": [
    "### Tokenising"
   ]
  },
  {
   "cell_type": "code",
   "execution_count": 6,
   "metadata": {},
   "outputs": [
    {
     "name": "stdout",
     "output_type": "stream",
     "text": [
      "1068\n"
     ]
    }
   ],
   "source": [
    "count = 0\n",
    "for i in range(len(french)) :\n",
    "    trial_text = french.loc[i,'text']\n",
    "    # split on bibebook text if there\n",
    "    trial_text = trial_text.split(\"Vous devez attribuer l’œuvre aux différents auteurs, y compris à Bibebook.\")\n",
    "    try : #if there, remove it\n",
    "        trial_text = trial_text[1]\n",
    "    except : #otherwise keep the text\n",
    "        trial_text = trial_text[0]\n",
    "        \n",
    "    # sentece tokenise, lemmetisation, and NER\n",
    "    by_sentence = sent_tokenize(trial_text)\n",
    "    lem_text = []\n",
    "    for sentence in by_sentence :\n",
    "        lem = [token.lemma_ for token in nlp(u'{}'.format(sentence)) if 'PROPN' not in token.tag_]\n",
    "        lem_text.append(' '.join(lem))\n",
    "    trial_text = ' '.join(lem_text)\n",
    "    \n",
    "    # remove punctuation and cursed french characters\n",
    "    trial_text = re.sub('[%s]' %re.escape (string.punctuation),' ',trial_text)\n",
    "    trial_text = trial_text.replace('«','')\n",
    "    trial_text = trial_text.replace('—','')\n",
    "    trial_text = trial_text.replace('»','')\n",
    "    \n",
    "    #remove digits\n",
    "    trial_text = re.sub('\\w*\\d\\w*',' ', trial_text)\n",
    "    \n",
    "    #lowercase\n",
    "    trial_text = trial_text.lower()\n",
    "    \n",
    "    #word tokenise\n",
    "    trial_text = word_tokenize(trial_text)\n",
    "    \n",
    "    #remove apostrophes\n",
    "    clean_text = []\n",
    "    for word in trial_text :\n",
    "        if word != '’' :\n",
    "            clean_text.append(word)\n",
    "            \n",
    "    #join all of the text\n",
    "    final_text = ' '.join(clean_text)\n",
    "    french.loc[i,'clean'] = final_text\n",
    "    count+=1\n",
    "    clear_output()\n",
    "    print(count) #so I know how many have been cleaned"
   ]
  },
  {
   "cell_type": "code",
   "execution_count": 39,
   "metadata": {},
   "outputs": [],
   "source": [
    "french.to_csv('french_clean.csv')"
   ]
  },
  {
   "cell_type": "code",
   "execution_count": null,
   "metadata": {},
   "outputs": [],
   "source": []
  }
 ],
 "metadata": {
  "kernelspec": {
   "display_name": "Python 3",
   "language": "python",
   "name": "python3"
  },
  "language_info": {
   "codemirror_mode": {
    "name": "ipython",
    "version": 3
   },
   "file_extension": ".py",
   "mimetype": "text/x-python",
   "name": "python",
   "nbconvert_exporter": "python",
   "pygments_lexer": "ipython3",
   "version": "3.7.1"
  }
 },
 "nbformat": 4,
 "nbformat_minor": 2
}
