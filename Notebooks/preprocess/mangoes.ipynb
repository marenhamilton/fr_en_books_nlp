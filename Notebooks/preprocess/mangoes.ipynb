{
 "cells": [
  {
   "cell_type": "code",
   "execution_count": 1,
   "metadata": {},
   "outputs": [],
   "source": [
    "from pymongo import MongoClient\n",
    "import os\n",
    "from itertools import islice\n",
    "import pandas as pd\n",
    "config = {\n",
    "  'host': 'XXX.XXX.XXX.XXX',\n",
    "  'username': 'mongo_user',\n",
    "  'password': 'password',\n",
    "  'authSource': 'cool'\n",
    "}\n",
    "\n",
    "client = MongoClient(**config)\n",
    "\n",
    "books = client.books"
   ]
  },
  {
   "cell_type": "code",
   "execution_count": null,
   "metadata": {},
   "outputs": [],
   "source": [
    "books.drop_collection('french')\n",
    "books.drop_collection('anglais')"
   ]
  },
  {
   "cell_type": "code",
   "execution_count": 3,
   "metadata": {},
   "outputs": [
    {
     "data": {
      "text/plain": [
       "Collection(Database(MongoClient(host=['18.220.190.0:27017'], document_class=dict, tz_aware=False, connect=True, authsource='cool'), 'books'), 'anglais')"
      ]
     },
     "execution_count": 3,
     "metadata": {},
     "output_type": "execute_result"
    }
   ],
   "source": [
    "books.create_collection('french')\n",
    "books.create_collection('anglais')"
   ]
  },
  {
   "cell_type": "code",
   "execution_count": 4,
   "metadata": {},
   "outputs": [],
   "source": [
    "french = books.french\n",
    "anglais = books.anglais"
   ]
  },
  {
   "cell_type": "code",
   "execution_count": 5,
   "metadata": {},
   "outputs": [
    {
     "name": "stdout",
     "output_type": "stream",
     "text": [
      "File parse error :  .fuse_hidden0000465600000001\n",
      "Can't open :  .ipynb_checkpoints\n"
     ]
    }
   ],
   "source": [
    "# Get all of my english texts as a list of dicts, and save the author and title as well\n",
    "eng_data = []\n",
    "path = './Data/english'\n",
    "for filename in os.listdir(path) :\n",
    "    book_info = {}\n",
    "    try :\n",
    "        with open(path+'/'+filename,'r',encoding='utf-8',errors='ignore') as book:\n",
    "            try :\n",
    "                book_info['author'] = filename.split('___')[0]\n",
    "                book_info['title'] = filename.split('___')[1].strip('.txt')\n",
    "                book_info['text'] = book.read().replace('\\n',' ')\n",
    "                book.close()\n",
    "                eng_data.append(book_info)\n",
    "            except :\n",
    "                print('File parse error : ',filename)\n",
    "    except :\n",
    "        print(\"Can't open : \",filename)"
   ]
  },
  {
   "cell_type": "code",
   "execution_count": 6,
   "metadata": {},
   "outputs": [
    {
     "name": "stdout",
     "output_type": "stream",
     "text": [
      "File parse error :  .DS_Store\n"
     ]
    }
   ],
   "source": [
    "# Get all of my french texts as a list of dicts, again saving the author and title\n",
    "fra_data = []\n",
    "path = './Data/francais'\n",
    "for filename in os.listdir(path) :\n",
    "    book_info = {}\n",
    "    try :\n",
    "        with open(path+'/'+filename,'r',encoding='utf-8',errors='ignore') as book:\n",
    "            try :\n",
    "                book_info['title'] = filename.split(' - ')[0]\n",
    "                book_info['author'] = filename.split(' - ')[1].strip('.txt')\n",
    "                book_info['text'] = book.read().replace('\\n',' ').replace('\\t',' ')\n",
    "                book.close()\n",
    "                fra_data.append(book_info)\n",
    "            except :\n",
    "                print('File parse error : ',filename)\n",
    "    except :\n",
    "        print(\"Can't open : \",filename)"
   ]
  },
  {
   "cell_type": "code",
   "execution_count": 7,
   "metadata": {},
   "outputs": [
    {
     "data": {
      "text/plain": [
       "<pymongo.results.InsertManyResult at 0x1134b7048>"
      ]
     },
     "execution_count": 7,
     "metadata": {},
     "output_type": "execute_result"
    }
   ],
   "source": [
    "# push lists to Mongo\n",
    "anglais.insert_many(eng_data)\n",
    "french.insert_many(fra_data)"
   ]
  },
  {
   "cell_type": "code",
   "execution_count": 1,
   "metadata": {},
   "outputs": [],
   "source": [
    "# Save off my data as dfs"
   ]
  },
  {
   "cell_type": "code",
   "execution_count": 9,
   "metadata": {},
   "outputs": [],
   "source": [
    "f = pd.DataFrame(fra_data)\n",
    "f.to_csv('french.csv')"
   ]
  },
  {
   "cell_type": "code",
   "execution_count": 10,
   "metadata": {},
   "outputs": [],
   "source": [
    "e = pd.DataFrame(eng_data)\n",
    "e.to_csv('eng.csv')"
   ]
  }
 ],
 "metadata": {
  "kernelspec": {
   "display_name": "Python 3",
   "language": "python",
   "name": "python3"
  },
  "language_info": {
   "codemirror_mode": {
    "name": "ipython",
    "version": 3
   },
   "file_extension": ".py",
   "mimetype": "text/x-python",
   "name": "python",
   "nbconvert_exporter": "python",
   "pygments_lexer": "ipython3",
   "version": "3.7.1"
  }
 },
 "nbformat": 4,
 "nbformat_minor": 2
}
