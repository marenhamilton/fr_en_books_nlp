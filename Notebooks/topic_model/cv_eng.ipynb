{
 "cells": [
  {
   "cell_type": "code",
   "execution_count": 2,
   "metadata": {},
   "outputs": [],
   "source": [
    "import pandas as pd\n",
    "import numpy as np\n",
    "from sklearn.decomposition import TruncatedSVD,NMF\n",
    "from sklearn.feature_extraction.text import CountVectorizer,TfidfVectorizer\n",
    "from gensim import models, matutils"
   ]
  },
  {
   "cell_type": "code",
   "execution_count": 3,
   "metadata": {},
   "outputs": [],
   "source": [
    "def display_topics(model, feature_names, no_top_words, topic_names=None):\n",
    "    for ix, topic in enumerate(model.components_):\n",
    "        if not topic_names or not topic_names[ix]:\n",
    "            print(\"\\nTopic \", ix)\n",
    "        else:\n",
    "            print(\"\\nTopic: '\",topic_names[ix],\"'\")\n",
    "        print(\", \".join([feature_names[i]\n",
    "                        for i in topic.argsort()[:-no_top_words - 1:-1]]))"
   ]
  },
  {
   "cell_type": "code",
   "execution_count": 1,
   "metadata": {},
   "outputs": [],
   "source": [
    "test = pd.read_csv('eng_clean.csv')\n",
    "test = test.clean"
   ]
  },
  {
   "cell_type": "code",
   "execution_count": 5,
   "metadata": {},
   "outputs": [],
   "source": [
    "# stop word list of uninformative, nonsense, or over common words\n",
    "stops = ['mama','aunt','cousin','uncle','ii','iv','iii','vi','vii','papa','mamma','madam','you','nay','ay',\n",
    "         'tis','vol','pp','de','ne','ere','her','ha','dollar','lord','prince','princess','lady','king','queen',\n",
    "         'thou','thy','thee','wherefore','ms','er','tis','ye','hath','doth','yea','saith','ed','unto','hast','hence','shalt',\n",
    "         'devil','thine','alas',\n",
    "         'male','female','poem','electricity','behold','discharge','south','troop','army','sex','sexual','edition','north',\n",
    "         'south','reader','mode','acid','shew','text',\n",
    "         'sin','righteousness','mercy','sinner','holy','saint','gospel','flesh','hell','scripture','salvation','eternal',\n",
    "         'thereof','colour','somebody','somehow','grey','title','author','gray','anybody','american','british','french',\n",
    "         'irish','lad','publish','nod','stair',\n",
    "         'that','which','the','is','those','be','of','toward',]"
   ]
  },
  {
   "cell_type": "code",
   "execution_count": null,
   "metadata": {},
   "outputs": [],
   "source": [
    "cv = CountVectorizer(max_df=.65,min_df=.05,stop_words = stops)\n",
    "cv_test = cv.fit_transform(test)"
   ]
  },
  {
   "cell_type": "markdown",
   "metadata": {},
   "source": [
    "# LSA\n",
    "Not doing so hot."
   ]
  },
  {
   "cell_type": "code",
   "execution_count": 85,
   "metadata": {},
   "outputs": [
    {
     "data": {
      "text/plain": [
       "0.4094519600067894"
      ]
     },
     "execution_count": 85,
     "metadata": {},
     "output_type": "execute_result"
    }
   ],
   "source": [
    "lsa = TruncatedSVD(11,random_state=8,n_iter=10)\n",
    "doc_topic = lsa.fit_transform(cv_test)\n",
    "sum(lsa.explained_variance_ratio_)"
   ]
  },
  {
   "cell_type": "code",
   "execution_count": 86,
   "metadata": {},
   "outputs": [
    {
     "name": "stdout",
     "output_type": "stream",
     "text": [
      "\n",
      "Topic  0\n",
      "specie, honour, principle, officer, prayer, captain, nation, conscience, doctrine, island, government, worship, religion, curse, angel\n",
      "\n",
      "Topic  1\n",
      "prayer, righteous, conscience, angel, throne, curse, worship, doctrine, covenant, wicked, apostle, iniquity, holiness, godly, kingdom\n",
      "\n",
      "Topic  2\n",
      "specie, variety, selection, seed, doctrine, distinct, righteous, variation, breed, covenant, prayer, conscience, structure, angel, differ\n",
      "\n",
      "Topic  3\n",
      "principle, government, science, proposition, phenomenon, political, poet, system, theory, modern, writer, social, capital, nation, induction\n",
      "\n",
      "Topic  4\n",
      "officer, gun, government, vessel, current, island, captain, camp, capture, battery, cavalry, division, principle, phenomenon, regiment\n",
      "\n",
      "Topic  5\n",
      "current, plate, wire, surface, experiment, particle, pole, electric, induction, chemical, ball, gas, phenomenon, substance, solution\n",
      "\n",
      "Topic  6\n",
      "current, doctor, officer, plate, wire, marriage, experiment, carriage, captain, particle, ball, electric, honour, specie, positive\n",
      "\n",
      "Topic  7\n",
      "knight, current, castle, sword, plate, wire, honour, poet, particle, officer, whilst, experiment, electric, pole, camp\n",
      "\n",
      "Topic  8\n",
      "camp, trail, snow, capital, gun, labor, officer, valley, rifle, regiment, wage, seed, column, cavalry, slope\n",
      "\n",
      "Topic  9\n",
      "proposition, phenomenon, science, officer, attribute, sensation, gun, theory, definition, conception, observation, scientific, induction, hypothesis, process\n",
      "\n",
      "Topic  10\n",
      "knight, capital, labor, castle, proposition, wage, production, phenomenon, profit, commodity, sword, science, exchange, laborer, rent\n"
     ]
    }
   ],
   "source": [
    "display_topics(lsa,cv.get_feature_names(),15)"
   ]
  },
  {
   "cell_type": "markdown",
   "metadata": {},
   "source": [
    "# NMF\n",
    "Much better."
   ]
  },
  {
   "cell_type": "code",
   "execution_count": 87,
   "metadata": {},
   "outputs": [],
   "source": [
    "nmf = NMF(random_state=8,shuffle=True,n_components=14)\n",
    "doc_topic = nmf.fit_transform(cv_test)"
   ]
  },
  {
   "cell_type": "code",
   "execution_count": 88,
   "metadata": {},
   "outputs": [
    {
     "name": "stdout",
     "output_type": "stream",
     "text": [
      "\n",
      "Topic  0\n",
      "doctor, marriage, carriage, honour, tea, stair, drawing, dine, shop, lawyer, wine, lover, mistress, card, visitor\n",
      "\n",
      "Topic  1\n",
      "specie, selection, variety, variation, structure, island, distinct, organ, breed, individual, differ, modification, insect, modify, genus\n",
      "\n",
      "Topic  2\n",
      "prayer, doctrine, conscience, righteous, angel, worship, curse, throne, wicked, covenant, kingdom, apostle, iniquity, holiness, godly\n",
      "\n",
      "Topic  3\n",
      "proposition, phenomenon, science, attribute, theory, process, principle, observation, induction, individual, sensation, definition, conception, substance, scientific\n",
      "\n",
      "Topic  4\n",
      "officer, gun, regiment, camp, cavalry, prisoner, capture, division, garrison, infantry, retreat, column, fort, military, artillery\n",
      "\n",
      "Topic  5\n",
      "current, plate, wire, experiment, particle, electric, pole, surface, chemical, ball, gas, conductor, positive, metal, solution\n",
      "\n",
      "Topic  6\n",
      "poet, literature, poetry, century, literary, modern, writer, verse, novel, artist, ideal, criticism, genius, critic, color\n",
      "\n",
      "Topic  7\n",
      "god, sword, honour, slave, priest, savage, palace, etc, weep, mortal, manuscript, flee, bosom, chamber, throne\n",
      "\n",
      "Topic  8\n",
      "captain, island, vessel, deck, mate, crew, sailor, reef, coast, voyage, cabin, gun, pirate, anchor, craft\n",
      "\n",
      "Topic  9\n",
      "capital, labor, wage, production, profit, commodity, exchange, laborer, rent, quantity, tax, population, industry, employment, market\n",
      "\n",
      "Topic  10\n",
      "knight, castle, sword, forest, slay, archer, royal, shield, armor, galley, champion, damsel, monk, prisoner, honour\n",
      "\n",
      "Topic  11\n",
      "snow, valley, camp, trail, forest, slope, canoe, rifle, lake, bush, hunter, pine, west, ice, gun\n",
      "\n",
      "Topic  12\n",
      "government, principle, nation, minister, political, bill, policy, system, vote, cabinet, religion, parliament, kingdom, military, proceeding\n",
      "\n",
      "Topic  13\n",
      "seed, variety, generation, breed, specie, average, pot, distinct, column, pigeon, fertility, grain, bee, offspring, insect\n"
     ]
    }
   ],
   "source": [
    "display_topics(nmf,cv.get_feature_names(), 15)"
   ]
  },
  {
   "cell_type": "markdown",
   "metadata": {},
   "source": [
    "# LDA\n",
    "Beyond help - to be fair, it never should have worked, all of my texts are multitopic."
   ]
  },
  {
   "cell_type": "code",
   "execution_count": 89,
   "metadata": {},
   "outputs": [],
   "source": [
    "cvt = cv_test.transpose()\n",
    "corpus = matutils.Sparse2Corpus(cvt)\n",
    "id2word = dict((v, k) for k, v in cv.vocabulary_.items())"
   ]
  },
  {
   "cell_type": "code",
   "execution_count": 91,
   "metadata": {},
   "outputs": [],
   "source": [
    "lda = models.LdaModel(corpus=corpus, num_topics=12, passes=100,random_state=8,id2word=id2word)"
   ]
  },
  {
   "cell_type": "code",
   "execution_count": 92,
   "metadata": {},
   "outputs": [
    {
     "data": {
      "text/plain": [
       "[(0,\n",
       "  '0.004*\"honour\" + 0.003*\"etc\" + 0.003*\"prayer\" + 0.002*\"poet\" + 0.002*\"virtue\" + 0.002*\"nation\" + 0.002*\"curse\" + 0.002*\"verse\" + 0.002*\"scarce\" + 0.002*\"sword\"'),\n",
       " (1,\n",
       "  '0.004*\"marriage\" + 0.003*\"doctor\" + 0.003*\"carriage\" + 0.003*\"honour\" + 0.002*\"lover\" + 0.002*\"lawyer\" + 0.002*\"mistress\" + 0.002*\"countenance\" + 0.002*\"drawing\" + 0.002*\"favour\"'),\n",
       " (2,\n",
       "  '0.005*\"shop\" + 0.004*\"tea\" + 0.003*\"baby\" + 0.003*\"bottle\" + 0.003*\"kitchen\" + 0.003*\"doctor\" + 0.003*\"boot\" + 0.003*\"pipe\" + 0.002*\"stair\" + 0.002*\"candle\"'),\n",
       " (3,\n",
       "  '0.015*\"captain\" + 0.011*\"deck\" + 0.010*\"island\" + 0.009*\"vessel\" + 0.006*\"sailor\" + 0.006*\"crew\" + 0.006*\"mate\" + 0.006*\"canoe\" + 0.005*\"coast\" + 0.005*\"gun\"'),\n",
       " (4,\n",
       "  '0.008*\"knight\" + 0.008*\"sword\" + 0.006*\"priest\" + 0.006*\"god\" + 0.005*\"palace\" + 0.005*\"castle\" + 0.004*\"forest\" + 0.004*\"slave\" + 0.004*\"slay\" + 0.004*\"spear\"'),\n",
       " (5,\n",
       "  '0.018*\"specie\" + 0.008*\"variety\" + 0.006*\"surface\" + 0.006*\"seed\" + 0.006*\"distinct\" + 0.005*\"selection\" + 0.005*\"structure\" + 0.005*\"breed\" + 0.004*\"individual\" + 0.004*\"variation\"'),\n",
       " (6,\n",
       "  '0.007*\"government\" + 0.007*\"principle\" + 0.005*\"nation\" + 0.005*\"system\" + 0.004*\"political\" + 0.004*\"science\" + 0.003*\"religion\" + 0.003*\"individual\" + 0.003*\"method\" + 0.003*\"doctrine\"'),\n",
       " (7,\n",
       "  '0.007*\"camp\" + 0.006*\"snow\" + 0.006*\"trail\" + 0.005*\"gun\" + 0.004*\"reckon\" + 0.003*\"car\" + 0.003*\"rifle\" + 0.003*\"farm\" + 0.003*\"bush\" + 0.003*\"folk\"'),\n",
       " (8,\n",
       "  '0.007*\"poet\" + 0.005*\"modern\" + 0.004*\"literature\" + 0.004*\"artist\" + 0.004*\"literary\" + 0.004*\"poetry\" + 0.004*\"writer\" + 0.004*\"century\" + 0.003*\"genius\" + 0.003*\"novel\"'),\n",
       " (9,\n",
       "  '0.013*\"officer\" + 0.006*\"prisoner\" + 0.005*\"camp\" + 0.004*\"military\" + 0.004*\"gun\" + 0.004*\"regiment\" + 0.003*\"capture\" + 0.003*\"retreat\" + 0.003*\"cavalry\" + 0.003*\"garrison\"'),\n",
       " (10,\n",
       "  '0.002*\"realize\" + 0.002*\"softly\" + 0.002*\"gesture\" + 0.002*\"conscious\" + 0.002*\"attitude\" + 0.002*\"fling\" + 0.002*\"recognize\" + 0.002*\"doctor\" + 0.002*\"slightly\" + 0.002*\"lamp\"'),\n",
       " (11,\n",
       "  '0.003*\"color\" + 0.003*\"valley\" + 0.003*\"snow\" + 0.003*\"tower\" + 0.003*\"forest\" + 0.002*\"arch\" + 0.002*\"lake\" + 0.002*\"marble\" + 0.002*\"pine\" + 0.002*\"lovely\"')]"
      ]
     },
     "execution_count": 92,
     "metadata": {},
     "output_type": "execute_result"
    }
   ],
   "source": [
    "lda.print_topics()"
   ]
  },
  {
   "cell_type": "code",
   "execution_count": null,
   "metadata": {},
   "outputs": [],
   "source": []
  }
 ],
 "metadata": {
  "kernelspec": {
   "display_name": "Python 3",
   "language": "python",
   "name": "python3"
  },
  "language_info": {
   "codemirror_mode": {
    "name": "ipython",
    "version": 3
   },
   "file_extension": ".py",
   "mimetype": "text/x-python",
   "name": "python",
   "nbconvert_exporter": "python",
   "pygments_lexer": "ipython3",
   "version": "3.7.1"
  }
 },
 "nbformat": 4,
 "nbformat_minor": 2
}
