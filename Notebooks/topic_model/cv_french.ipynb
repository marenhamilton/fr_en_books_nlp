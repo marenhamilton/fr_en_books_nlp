{
 "cells": [
  {
   "cell_type": "code",
   "execution_count": 1,
   "metadata": {},
   "outputs": [],
   "source": [
    "import pandas as pd\n",
    "import numpy as np\n",
    "from sklearn.decomposition import TruncatedSVD,NMF\n",
    "from sklearn.feature_extraction.text import CountVectorizer,TfidfVectorizer\n",
    "from gensim import models, matutils"
   ]
  },
  {
   "cell_type": "code",
   "execution_count": null,
   "metadata": {},
   "outputs": [],
   "source": [
    "def display_topics(model, feature_names, no_top_words, topic_names=None):\n",
    "    for ix, topic in enumerate(model.components_):\n",
    "        if not topic_names or not topic_names[ix]:\n",
    "            print(\"\\nTopic \", ix)\n",
    "        else:\n",
    "            print(\"\\nTopic: '\",topic_names[ix],\"'\")\n",
    "        print(\", \".join([feature_names[i]\n",
    "                        for i in topic.argsort()[:-no_top_words - 1:-1]]))"
   ]
  },
  {
   "cell_type": "code",
   "execution_count": null,
   "metadata": {},
   "outputs": [],
   "source": [
    "fr = pd.read_csv('fr_clean.csv')\n",
    "titles = fr.title\n",
    "authors = fr.author\n",
    "test = fr.clean"
   ]
  },
  {
   "cell_type": "code",
   "execution_count": 2,
   "metadata": {},
   "outputs": [],
   "source": [
    "creating author-title for my flask app\n",
    "ids = titles + '; par ' + authors"
   ]
  },
  {
   "cell_type": "code",
   "execution_count": 2,
   "metadata": {},
   "outputs": [],
   "source": [
    "# Stops - uninformative or overly common words\n",
    "stops = ['mariu','adj','aliocha','cosette','gwynplaine','andrée','ll','ivan','anne','marie','mme','clotild','pierrette',\n",
    "         'césar','aramis','marguerite','pascal','mouret','catherine','luis','carolin','caroline','vladimir','mary','max',\n",
    "         'li','ka','luis','rouletabille','bis','madeleine','marat','norine','rosa','samuel','odette','frédérique','darcy',\n",
    "         'monique','peter','tadeo','toqui','mitia','arami','hortense','fantine','salvator','guiche','vallière','gavroche',\n",
    "         'rouble','angélique','reine','louis','antoinette','germain',\n",
    "         'duc','comtesse','comte','baron','citoyen','prince','sire','sir','chevalier','monseigneur','princesse','abbé',\n",
    "         'duchesse','colonel','assemblée','dauphin','maréchal','miss','tante','xv','juif','empereur','cardinal','national',\n",
    "         'curé','lord','forçat','préfet','président','commandant','vaisseau','tuilerie','ti','marquis','navire','évêque',\n",
    "         'république','candeur','barricade','moine','don','indien','capitaine','docteur','police','oncle','chasseur',\n",
    "         'mademoiselle','prisonnier','pretre','fusil','cousin','révolution','île','propriété','répliquer','répliqua',\n",
    "         'ministre','prêtre','politique','argot','million','égout','toutefois','professeur','gentleman','russe','paver',\n",
    "         'pavé','lady','exactement','mètre','répéta','vicomte','baronne','nièce','maman','papa','ta','ba','mé','in',\n",
    "         'particulièrement']"
   ]
  },
  {
   "cell_type": "code",
   "execution_count": 10,
   "metadata": {},
   "outputs": [],
   "source": [
    "cv = CountVectorizer(min_df=.05,max_df=.65,stop_words=stops)\n",
    "cv_test = cv.fit_transform(test)"
   ]
  },
  {
   "cell_type": "markdown",
   "metadata": {},
   "source": [
    "# LSA Model\n",
    "Okay-ish topics."
   ]
  },
  {
   "cell_type": "code",
   "execution_count": 12,
   "metadata": {},
   "outputs": [
    {
     "data": {
      "text/plain": [
       "0.2790740493787146"
      ]
     },
     "execution_count": 12,
     "metadata": {},
     "output_type": "execute_result"
    }
   ],
   "source": [
    "lsa = TruncatedSVD(10,random_state=8,n_iter=10)\n",
    "doc_topic = lsa.fit_transform(cv_test)\n",
    "sum(lsa.explained_variance_ratio_)"
   ]
  },
  {
   "cell_type": "code",
   "execution_count": 13,
   "metadata": {},
   "outputs": [
    {
     "name": "stdout",
     "output_type": "stream",
     "text": [
      "\n",
      "Topic  0\n",
      "interrompit, troupe, royal, valet, cadavre, canon, amant, bureau, palais, cavalier, ouvrier, lieutenant, bourgeois, instruction, gentilhomme\n",
      "\n",
      "Topic  1\n",
      "troupe, canon, matelot, camp, royal, nation, guerrier, cavalier, rocher, lieutenant, équipage, sabre, balle, armer, bâtiment\n",
      "\n",
      "Topic  2\n",
      "royal, gentilhomme, valet, décret, carrosse, nation, constitution, suisse, serment, vive, patrie, patriote, député, amant, tribune\n",
      "\n",
      "Topic  3\n",
      "maire, bourgeois, angle, boulevard, ouvrier, cabaret, grille, ténèbre, bonhomme, couvent, émeute, passant, sabre, chandelle, sergent\n",
      "\n",
      "Topic  4\n",
      "carrosse, gentilhomme, fée, épée, palais, amant, éper, comédien, coeur, valet, écu, philosophe, poète, cavalier, marbre\n",
      "\n",
      "Topic  5\n",
      "principe, social, gouvernement, etc, poète, nation, souverain, commerce, produit, article, classe, province, religion, ouvrier, système\n",
      "\n",
      "Topic  6\n",
      "matelot, équipage, lieutenant, marin, carrosse, bâtiment, port, frégate, royal, bateau, mât, philosophe, marine, embarcation, diamant\n",
      "\n",
      "Topic  7\n",
      "couvent, social, ténèbre, avocat, maire, prieur, guerrier, destinée, redoutable, progrès, procureur, instruction, émeute, principe, etc\n",
      "\n",
      "Topic  8\n",
      "palais, temple, assassin, souverain, agent, directeur, complice, galerie, instruction, chinois, marbre, policier, cadavre, royal, revolver\n",
      "\n",
      "Topic  9\n",
      "thé, royal, décret, temple, humanité, visiteur, tribune, constitution, accusé, octobre, août, autel, patrie, cadavre, bateau\n"
     ]
    }
   ],
   "source": [
    "display_topics(lsa,cv.get_feature_names(),15)"
   ]
  },
  {
   "cell_type": "markdown",
   "metadata": {},
   "source": [
    "# NMF\n",
    "Pretty good topics, so what I used in the end!"
   ]
  },
  {
   "cell_type": "code",
   "execution_count": 14,
   "metadata": {},
   "outputs": [],
   "source": [
    "nmf = NMF(random_state=8,shuffle=True,n_components=17)\n",
    "doc_topic = nmf.fit_transform(cv_test)"
   ]
  },
  {
   "cell_type": "code",
   "execution_count": 15,
   "metadata": {},
   "outputs": [
    {
     "name": "stdout",
     "output_type": "stream",
     "text": [
      "\n",
      "Topic  0\n",
      "thé, chère, témoigner, chéri, espère, persuader, demoiselle, relation, agitation, entretien, allusion, sérieusement, prie, sympathie, sincère\n",
      "\n",
      "Topic  1\n",
      "guerrier, troupe, camp, rocher, cavalier, major, prairie, tribu, bandit, nation, ours, plaine, vengeance, espagnol, balle\n",
      "\n",
      "Topic  2\n",
      "royal, nation, décret, patrie, constitution, canon, patriote, tribune, vive, député, août, serment, autel, municipal, sabre\n",
      "\n",
      "Topic  3\n",
      "loup, neige, tabac, patte, coeur, ours, bateau, vache, ventre, pipe, comédien, chat, bouteille, paille, hé\n",
      "\n",
      "Topic  4\n",
      "assassin, agent, revolver, complice, inspecteur, bureau, auto, bandit, patron, reporter, cadavre, instruction, secrétaire, directeur, enquête\n",
      "\n",
      "Topic  5\n",
      "principe, social, gouvernement, produit, souverain, système, etc, matière, canadien, ouvrier, institution, commerce, classe, théorie, publier\n",
      "\n",
      "Topic  6\n",
      "matelot, équipage, marin, bâtiment, lieutenant, canot, port, bateau, nègre, frégate, canon, embarcation, mât, rivage, rocher\n",
      "\n",
      "Topic  7\n",
      "maire, couvent, ténèbre, angle, boulevard, grille, bourgeois, émeute, cabaret, passant, chandelle, gamin, clarté, social, bonhomme\n",
      "\n",
      "Topic  8\n",
      "temple, palais, marbre, chinois, plaine, granit, sable, jadis, terrasse, voûte, région, antique, colonne, alentour, bronze\n",
      "\n",
      "Topic  9\n",
      "bureau, magasin, caisse, patron, ouvrier, vendeur, comptoir, atelier, client, boutique, commerce, demoiselle, commis, dentelle, vente\n",
      "\n",
      "Topic  10\n",
      "écolier, prévôt, édifice, bohémien, chèvre, cellule, architecture, cloche, égyptien, lecteur, pape, statue, lucarne, échelle, gibet\n",
      "\n",
      "Topic  11\n",
      "lieutenant, canon, régiment, bataillon, major, prussien, allemand, militaire, troupe, sergent, colonne, sabre, balle, blessé, baïonnette\n",
      "\n",
      "Topic  12\n",
      "fée, palais, royaume, diamant, coeur, bergère, souris, affliger, souverain, amant, monstre, couronne, ravir, nain, dragon\n",
      "\n",
      "Topic  13\n",
      "poète, amant, artiste, loge, notaire, province, talent, acteur, article, parisien, rente, poésie, roman, sublime, bourgeois\n",
      "\n",
      "Topic  14\n",
      "saxon, prieur, lance, chrétien, lice, serviteur, épée, troupe, cavalier, normand, flèche, écuyer, messire, pèlerin, arc\n",
      "\n",
      "Topic  15\n",
      "avocat, instruction, interrompit, agent, procureur, assassin, prévenu, magistrat, veuve, procès, accusé, bonhomme, commissaire, policier, gendarme\n",
      "\n",
      "Topic  16\n",
      "carrosse, gentilhomme, valet, royal, épée, philosophe, gouverneur, régent, cavalier, diamant, antichambre, éper, laquais, collier, inclina\n"
     ]
    }
   ],
   "source": [
    "display_topics(nmf,cv.get_feature_names(), 15)"
   ]
  },
  {
   "cell_type": "code",
   "execution_count": 16,
   "metadata": {},
   "outputs": [],
   "source": [
    "# saving off with index as author-title combo\n",
    "topicd = pd.DataFrame(doc_topic.round(5),\n",
    "                      index=ids,\n",
    "                      columns = ['romdram','war','revolution','countryside','spy_detect','pol_econ','boats','drama_life',\n",
    "                       'foreign_exp','bus_commerce','relig','francoprussian','fairies','arts_bohe','knights','law_crime',\n",
    "                       'candide'])"
   ]
  },
  {
   "cell_type": "code",
   "execution_count": 19,
   "metadata": {},
   "outputs": [],
   "source": [
    "topicd.to_csv('topic_fr.csv')"
   ]
  },
  {
   "cell_type": "markdown",
   "metadata": {},
   "source": [
    "# LDA Model\n",
    "This doesn't work well because my books are not based on topics for the most part - many of them will include multiple topics."
   ]
  },
  {
   "cell_type": "code",
   "execution_count": 157,
   "metadata": {},
   "outputs": [],
   "source": [
    "cvt = cv_test.transpose()"
   ]
  },
  {
   "cell_type": "code",
   "execution_count": 158,
   "metadata": {},
   "outputs": [],
   "source": [
    "corpus = matutils.Sparse2Corpus(cvt)\n",
    "id2word = dict((v, k) for k, v in cv.vocabulary_.items())"
   ]
  },
  {
   "cell_type": "code",
   "execution_count": 159,
   "metadata": {},
   "outputs": [],
   "source": [
    "lda = models.LdaModel(corpus=corpus, num_topics=13, passes=100,random_state=8,id2word=id2word)"
   ]
  },
  {
   "cell_type": "code",
   "execution_count": 160,
   "metadata": {},
   "outputs": [
    {
     "data": {
      "text/plain": [
       "[(0,\n",
       "  '0.004*\"revolver\" + 0.003*\"auto\" + 0.003*\"assassin\" + 0.003*\"complice\" + 0.002*\"bureau\" + 0.002*\"reporter\" + 0.002*\"inspecteur\" + 0.002*\"agent\" + 0.002*\"cadavre\" + 0.002*\"secrétaire\"'),\n",
       " (1,\n",
       "  '0.002*\"chère\" + 0.002*\"témoigner\" + 0.002*\"thé\" + 0.002*\"espère\" + 0.001*\"entretien\" + 0.001*\"répondi\" + 0.001*\"persuader\" + 0.001*\"consolation\" + 0.001*\"sympathie\" + 0.001*\"chéri\"'),\n",
       " (2,\n",
       "  '0.005*\"interrompit\" + 0.004*\"instruction\" + 0.004*\"agent\" + 0.004*\"avocat\" + 0.003*\"commissaire\" + 0.003*\"bureau\" + 0.003*\"assassin\" + 0.003*\"banquier\" + 0.002*\"magistrat\" + 0.002*\"veuve\"'),\n",
       " (3,\n",
       "  '0.005*\"bureau\" + 0.003*\"ouvrier\" + 0.003*\"café\" + 0.003*\"etc\" + 0.003*\"boutique\" + 0.003*\"tabac\" + 0.002*\"bonhomme\" + 0.002*\"commerce\" + 0.002*\"bouteille\" + 0.002*\"patron\"'),\n",
       " (4,\n",
       "  '0.004*\"coeur\" + 0.004*\"loup\" + 0.004*\"neige\" + 0.003*\"fée\" + 0.002*\"hé\" + 0.002*\"patte\" + 0.002*\"bâton\" + 0.002*\"vache\" + 0.002*\"sentier\" + 0.002*\"rocher\"'),\n",
       " (5,\n",
       "  '0.005*\"amant\" + 0.004*\"artiste\" + 0.003*\"poète\" + 0.002*\"province\" + 0.002*\"talent\" + 0.002*\"sublime\" + 0.002*\"religion\" + 0.002*\"rente\" + 0.002*\"peintre\" + 0.002*\"poésie\"'),\n",
       " (6,\n",
       "  '0.005*\"canon\" + 0.004*\"troupe\" + 0.004*\"sabre\" + 0.004*\"patriote\" + 0.004*\"régiment\" + 0.003*\"militaire\" + 0.003*\"gouvernement\" + 0.003*\"vive\" + 0.003*\"lieutenant\" + 0.003*\"nation\"'),\n",
       " (7,\n",
       "  '0.003*\"ténèbre\" + 0.002*\"angle\" + 0.002*\"bourgeois\" + 0.002*\"couvent\" + 0.002*\"cellule\" + 0.002*\"clarté\" + 0.001*\"lugubre\" + 0.001*\"passant\" + 0.001*\"monstre\" + 0.001*\"redoutable\"'),\n",
       " (8,\n",
       "  '0.004*\"palais\" + 0.004*\"temple\" + 0.003*\"marbre\" + 0.003*\"plaine\" + 0.003*\"sable\" + 0.002*\"antique\" + 0.002*\"chinois\" + 0.002*\"granit\" + 0.002*\"arabe\" + 0.002*\"voûte\"'),\n",
       " (9,\n",
       "  '0.003*\"principe\" + 0.003*\"matière\" + 0.003*\"social\" + 0.003*\"machine\" + 0.003*\"humanité\" + 0.003*\"système\" + 0.002*\"savant\" + 0.002*\"canadien\" + 0.002*\"individu\" + 0.002*\"gouvernement\"'),\n",
       " (10,\n",
       "  '0.006*\"matelot\" + 0.005*\"marin\" + 0.004*\"rocher\" + 0.004*\"canot\" + 0.004*\"équipage\" + 0.004*\"bâtiment\" + 0.003*\"bateau\" + 0.003*\"guerrier\" + 0.003*\"port\" + 0.003*\"troupe\"'),\n",
       " (11,\n",
       "  '0.005*\"gentilhomme\" + 0.004*\"épée\" + 0.004*\"cavalier\" + 0.003*\"royal\" + 0.003*\"valet\" + 0.003*\"carrosse\" + 0.003*\"serviteur\" + 0.003*\"gouverneur\" + 0.002*\"éper\" + 0.002*\"inclina\"'),\n",
       " (12,\n",
       "  '0.002*\"caresse\" + 0.002*\"fillette\" + 0.001*\"amant\" + 0.001*\"paupière\" + 0.001*\"emplir\" + 0.001*\"chéri\" + 0.001*\"gentil\" + 0.001*\"hausser\" + 0.001*\"jupe\" + 0.001*\"mou\"')]"
      ]
     },
     "execution_count": 160,
     "metadata": {},
     "output_type": "execute_result"
    }
   ],
   "source": [
    "lda.print_topics()"
   ]
  },
  {
   "cell_type": "code",
   "execution_count": null,
   "metadata": {},
   "outputs": [],
   "source": []
  }
 ],
 "metadata": {
  "kernelspec": {
   "display_name": "Python 3",
   "language": "python",
   "name": "python3"
  },
  "language_info": {
   "codemirror_mode": {
    "name": "ipython",
    "version": 3
   },
   "file_extension": ".py",
   "mimetype": "text/x-python",
   "name": "python",
   "nbconvert_exporter": "python",
   "pygments_lexer": "ipython3",
   "version": "3.7.1"
  }
 },
 "nbformat": 4,
 "nbformat_minor": 2
}
