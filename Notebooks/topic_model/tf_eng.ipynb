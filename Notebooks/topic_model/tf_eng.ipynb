{
 "cells": [
  {
   "cell_type": "code",
   "execution_count": 1,
   "metadata": {},
   "outputs": [],
   "source": [
    "import pandas as pd\n",
    "import numpy as np\n",
    "from sklearn.decomposition import TruncatedSVD,NMF\n",
    "from sklearn.feature_extraction.text import CountVectorizer,TfidfVectorizer\n",
    "from gensim import models, matutils"
   ]
  },
  {
   "cell_type": "code",
   "execution_count": null,
   "metadata": {},
   "outputs": [],
   "source": [
    "def display_topics(model, feature_names, no_top_words, topic_names=None):\n",
    "    for ix, topic in enumerate(model.components_):\n",
    "        if not topic_names or not topic_names[ix]:\n",
    "            print(\"\\nTopic \", ix)\n",
    "        else:\n",
    "            print(\"\\nTopic: '\",topic_names[ix],\"'\")\n",
    "        print(\", \".join([feature_names[i]\n",
    "                        for i in topic.argsort()[:-no_top_words - 1:-1]]))"
   ]
  },
  {
   "cell_type": "code",
   "execution_count": 4,
   "metadata": {},
   "outputs": [],
   "source": [
    "test = pd.read_csv('eng_clean.csv')\n",
    "authors = test.author\n",
    "titles = test.title\n",
    "test = test.clean"
   ]
  },
  {
   "cell_type": "code",
   "execution_count": 5,
   "metadata": {},
   "outputs": [],
   "source": [
    "# creating title-author ids for my flask app\n",
    "ids = titles + '; by ' + authors"
   ]
  },
  {
   "cell_type": "code",
   "execution_count": 7,
   "metadata": {},
   "outputs": [],
   "source": [
    "stops = [\n",
    "    'papa','cousin','uncle','aunt','mamma','madam','lordship','ladyship','lord','prince','queen','niece','monsieur',\n",
    "    'thou','thy','thee','thine','hast','st','hath','tis','er','ye','ses','wot','se','ad','fre','arter','nay','ere',\n",
    "         'doth','ead','ave','agin','ow','ome','afore','ay','ha','de','wi','yer','ap','ard','hae','ouse','ud','ope','author',\n",
    "    'chap','vol','fer','git','american','fat','funny','dollar','alas','dost','morn','somehow','eh','thoughtfully','anybody',\n",
    "    'pal','somebody','gray','male','female','lovely','fun','egg','apple','mouse','cake',\n",
    "    'poet','illustration','gal','colour','lad','grey','anyone','nod','french','lunch','maybe','dollar','cent','color','tail',\n",
    "    'car','publish','anyway','her','stair',\n",
    "    'realise','shrug','recognise','realize','softly','recognize','fust','pore','boot','shoe','pie','shew','jolly',\n",
    "    'toward','whilst','unto','amongst','ii',\n",
    "        ]"
   ]
  },
  {
   "cell_type": "code",
   "execution_count": 8,
   "metadata": {},
   "outputs": [],
   "source": [
    "tf = TfidfVectorizer(min_df=.05,max_df=.65,stop_words=stops)\n",
    "tf_test = tf.fit_transform(test)"
   ]
  },
  {
   "cell_type": "markdown",
   "metadata": {},
   "source": [
    "# LSA Model\n",
    "Some okay topics."
   ]
  },
  {
   "cell_type": "code",
   "execution_count": 10,
   "metadata": {},
   "outputs": [],
   "source": [
    "lsa = TruncatedSVD(15,random_state=8,n_iter=10)"
   ]
  },
  {
   "cell_type": "code",
   "execution_count": 11,
   "metadata": {},
   "outputs": [],
   "source": [
    "doc_topic = lsa.fit_transform(tf_test)"
   ]
  },
  {
   "cell_type": "code",
   "execution_count": 12,
   "metadata": {},
   "outputs": [
    {
     "name": "stdout",
     "output_type": "stream",
     "text": [
      "\n",
      "Topic  0\n",
      "doctor, honour, captain, officer, marriage, snow, tea, hotel, army, gun, carriage, island, reader, camp, sword\n",
      "\n",
      "Topic  1\n",
      "poem, principle, modern, government, nation, political, science, literature, century, writer, religion, system, literary, doctrine, social\n",
      "\n",
      "Topic  2\n",
      "army, officer, troop, captain, island, sword, gun, vessel, canoe, camp, knight, nation, government, prisoner, god\n",
      "\n",
      "Topic  3\n",
      "poem, knight, sword, god, sin, weep, priest, holy, behold, honour, maiden, slay, castle, fairy, palace\n",
      "\n",
      "Topic  4\n",
      "officer, army, honour, troop, marriage, knight, prisoner, regiment, castle, carriage, sword, captain, mistress, favour, doctor\n",
      "\n",
      "Topic  5\n",
      "captain, deck, skipper, mate, vessel, island, crew, sailor, schooner, pirate, seaman, voyage, ashore, brig, anchor\n",
      "\n",
      "Topic  6\n",
      "poem, officer, literary, literature, poetry, army, skipper, verse, deck, captain, troop, critic, novel, german, regiment\n",
      "\n",
      "Topic  7\n",
      "sin, skipper, nation, god, government, science, priest, slave, religion, kingdom, doctrine, sword, system, police, policeman\n",
      "\n",
      "Topic  8\n",
      "poem, government, snow, verse, trail, folk, farmer, etc, farm, baby, bill, vote, nation, hunter, reader\n",
      "\n",
      "Topic  9\n",
      "specie, fairy, army, troop, officer, baby, tea, regiment, nest, cavalry, palace, shop, cat, castle, basket\n",
      "\n",
      "Topic  10\n",
      "government, palace, hotel, honor, castle, labor, favor, nation, vessel, slavery, knight, steamer, deck, neighbor, afterward\n",
      "\n",
      "Topic  11\n",
      "canoe, island, savage, god, palace, priest, hut, spear, hunter, paddle, lake, literature, princess, literary, tribe\n",
      "\n",
      "Topic  12\n",
      "knight, castle, specie, detective, sword, hotel, police, poem, archer, apartment, hypothesis, royal, scottish, earl, cadet\n",
      "\n",
      "Topic  13\n",
      "skipper, knight, mate, castle, cook, wharf, cabin, honor, princess, camp, doctor, palace, literature, baby, literary\n",
      "\n",
      "Topic  14\n",
      "skipper, canoe, mate, government, wharf, pint, political, paddle, beer, watchman, cook, hunter, honour, cab, pipe\n"
     ]
    }
   ],
   "source": [
    "display_topics(lsa,tf.get_feature_names(),15)"
   ]
  },
  {
   "cell_type": "markdown",
   "metadata": {},
   "source": [
    "# NMF Model\n",
    "What I used for topics! Good separation and variety."
   ]
  },
  {
   "cell_type": "code",
   "execution_count": 13,
   "metadata": {},
   "outputs": [],
   "source": [
    "nmf = NMF(random_state=8,shuffle=True,n_components=13)\n",
    "doc_topic = nmf.fit_transform(tf_test)"
   ]
  },
  {
   "cell_type": "code",
   "execution_count": 14,
   "metadata": {},
   "outputs": [
    {
     "name": "stdout",
     "output_type": "stream",
     "text": [
      "\n",
      "Topic  0\n",
      "marriage, honour, carriage, doctor, lover, drawing, favour, mistress, lawyer, endeavour, countenance, clergyman, engagement, widow, inquiry\n",
      "\n",
      "Topic  1\n",
      "specie, science, hypothesis, scientific, phenomenon, structure, physical, theory, variety, process, development, modification, organic, modern, surface\n",
      "\n",
      "Topic  2\n",
      "officer, army, troop, regiment, gun, cavalry, infantry, camp, british, prisoner, colonel, garrison, fort, battery, military\n",
      "\n",
      "Topic  3\n",
      "sin, god, weep, behold, holy, poem, woe, mortal, priest, angel, prayer, dew, shalt, lover, divine\n",
      "\n",
      "Topic  4\n",
      "trail, snow, camp, ranch, reckon, cabin, prairie, wagon, team, hotel, pine, valley, miner, saddle, rifle\n",
      "\n",
      "Topic  5\n",
      "captain, deck, vessel, sailor, crew, island, cabin, mate, schooner, pirate, anchor, brig, coast, ashore, voyage\n",
      "\n",
      "Topic  6\n",
      "poem, literature, literary, poetry, verse, reader, writer, novel, critic, artist, modern, genius, criticism, prose, century\n",
      "\n",
      "Topic  7\n",
      "skipper, mate, wharf, cook, pint, watchman, deck, beer, landlord, cabin, policeman, aboard, doctor, bunk, jetty\n",
      "\n",
      "Topic  8\n",
      "hotel, cigarette, doctor, police, cigar, telephone, cab, detective, waiter, motor, tea, restaurant, visitor, conscious, card\n",
      "\n",
      "Topic  9\n",
      "baby, fairy, tea, cat, kitchen, folk, nest, basket, shop, pig, farm, rabbit, cow, milk, hen\n",
      "\n",
      "Topic  10\n",
      "government, nation, political, principle, system, slavery, religion, vote, national, policy, institution, kingdom, social, slave, doctrine\n",
      "\n",
      "Topic  11\n",
      "canoe, savage, hunter, island, hut, forest, rifle, paddle, lake, bush, tribe, camp, indian, gun, warrior\n",
      "\n",
      "Topic  12\n",
      "knight, castle, sword, palace, royal, priest, princess, army, honour, slay, archer, monk, prisoner, throne, arrow\n"
     ]
    }
   ],
   "source": [
    "display_topics(nmf,tf.get_feature_names(), 15)"
   ]
  },
  {
   "cell_type": "code",
   "execution_count": 15,
   "metadata": {},
   "outputs": [],
   "source": [
    "#save off with title-author index\n",
    "topicd = pd.DataFrame(doc_topic.round(5),\n",
    "                      index=ids,\n",
    "                      columns = ['romdram','science','war','religion',\n",
    "                                 'wild','boats_adv','lit','boats_life',\n",
    "                                 'crime','folk','politics','e_america',\n",
    "                                 'knights'])"
   ]
  },
  {
   "cell_type": "code",
   "execution_count": 18,
   "metadata": {},
   "outputs": [],
   "source": [
    "topicd.to_csv('topic_en.csv')"
   ]
  },
  {
   "cell_type": "markdown",
   "metadata": {},
   "source": [
    "# LDA\n",
    "Struggling, but I didn't run it to optimisation anyway since I knew it would not work."
   ]
  },
  {
   "cell_type": "code",
   "execution_count": null,
   "metadata": {},
   "outputs": [],
   "source": [
    "tft = tf_test.transpose()\n",
    "corpus = matutils.Sparse2Corpus(tft)\n",
    "id2word = dict((v, k) for k, v in tf.vocabulary_.items())"
   ]
  },
  {
   "cell_type": "code",
   "execution_count": 114,
   "metadata": {},
   "outputs": [],
   "source": [
    "lda = models.LdaModel(corpus=corpus, num_topics=12, passes=100,random_state=8,id2word=id2word)"
   ]
  },
  {
   "cell_type": "code",
   "execution_count": 115,
   "metadata": {},
   "outputs": [
    {
     "data": {
      "text/plain": [
       "[(0,\n",
       "  '0.000*\"moccasin\" + 0.000*\"sullenness\" + 0.000*\"yawned\" + 0.000*\"outwork\" + 0.000*\"bestride\" + 0.000*\"rudest\" + 0.000*\"dispirited\" + 0.000*\"incapacitate\" + 0.000*\"denude\" + 0.000*\"phalanx\"'),\n",
       " (1,\n",
       "  '0.000*\"moccasin\" + 0.000*\"sullenness\" + 0.000*\"yawned\" + 0.000*\"outwork\" + 0.000*\"bestride\" + 0.000*\"rudest\" + 0.000*\"dispirited\" + 0.000*\"incapacitate\" + 0.000*\"denude\" + 0.000*\"phalanx\"'),\n",
       " (2,\n",
       "  '0.001*\"captain\" + 0.001*\"doctor\" + 0.001*\"officer\" + 0.001*\"honour\" + 0.001*\"snow\" + 0.001*\"gun\" + 0.001*\"army\" + 0.001*\"camp\" + 0.001*\"island\" + 0.001*\"marriage\"'),\n",
       " (3,\n",
       "  '0.000*\"moccasin\" + 0.000*\"sullenness\" + 0.000*\"yawned\" + 0.000*\"outwork\" + 0.000*\"bestride\" + 0.000*\"rudest\" + 0.000*\"dispirited\" + 0.000*\"incapacitate\" + 0.000*\"denude\" + 0.000*\"phalanx\"'),\n",
       " (4,\n",
       "  '0.000*\"moccasin\" + 0.000*\"sullenness\" + 0.000*\"yawned\" + 0.000*\"outwork\" + 0.000*\"bestride\" + 0.000*\"rudest\" + 0.000*\"dispirited\" + 0.000*\"incapacitate\" + 0.000*\"denude\" + 0.000*\"phalanx\"'),\n",
       " (5,\n",
       "  '0.000*\"moccasin\" + 0.000*\"sullenness\" + 0.000*\"yawned\" + 0.000*\"outwork\" + 0.000*\"bestride\" + 0.000*\"rudest\" + 0.000*\"dispirited\" + 0.000*\"incapacitate\" + 0.000*\"denude\" + 0.000*\"phalanx\"'),\n",
       " (6,\n",
       "  '0.000*\"moccasin\" + 0.000*\"sullenness\" + 0.000*\"yawned\" + 0.000*\"outwork\" + 0.000*\"bestride\" + 0.000*\"rudest\" + 0.000*\"dispirited\" + 0.000*\"incapacitate\" + 0.000*\"denude\" + 0.000*\"phalanx\"'),\n",
       " (7,\n",
       "  '0.000*\"moccasin\" + 0.000*\"sullenness\" + 0.000*\"yawned\" + 0.000*\"outwork\" + 0.000*\"bestride\" + 0.000*\"rudest\" + 0.000*\"dispirited\" + 0.000*\"incapacitate\" + 0.000*\"denude\" + 0.000*\"phalanx\"'),\n",
       " (8,\n",
       "  '0.000*\"moccasin\" + 0.000*\"sullenness\" + 0.000*\"yawned\" + 0.000*\"outwork\" + 0.000*\"bestride\" + 0.000*\"rudest\" + 0.000*\"dispirited\" + 0.000*\"incapacitate\" + 0.000*\"denude\" + 0.000*\"phalanx\"'),\n",
       " (9,\n",
       "  '0.000*\"moccasin\" + 0.000*\"sullenness\" + 0.000*\"yawned\" + 0.000*\"outwork\" + 0.000*\"bestride\" + 0.000*\"rudest\" + 0.000*\"dispirited\" + 0.000*\"incapacitate\" + 0.000*\"denude\" + 0.000*\"phalanx\"'),\n",
       " (10,\n",
       "  '0.000*\"moccasin\" + 0.000*\"sullenness\" + 0.000*\"yawned\" + 0.000*\"outwork\" + 0.000*\"bestride\" + 0.000*\"rudest\" + 0.000*\"dispirited\" + 0.000*\"incapacitate\" + 0.000*\"denude\" + 0.000*\"phalanx\"'),\n",
       " (11,\n",
       "  '0.000*\"moccasin\" + 0.000*\"sullenness\" + 0.000*\"yawned\" + 0.000*\"outwork\" + 0.000*\"bestride\" + 0.000*\"rudest\" + 0.000*\"dispirited\" + 0.000*\"incapacitate\" + 0.000*\"denude\" + 0.000*\"phalanx\"')]"
      ]
     },
     "execution_count": 115,
     "metadata": {},
     "output_type": "execute_result"
    }
   ],
   "source": [
    "lda.print_topics()"
   ]
  }
 ],
 "metadata": {
  "kernelspec": {
   "display_name": "Python 3",
   "language": "python",
   "name": "python3"
  },
  "language_info": {
   "codemirror_mode": {
    "name": "ipython",
    "version": 3
   },
   "file_extension": ".py",
   "mimetype": "text/x-python",
   "name": "python",
   "nbconvert_exporter": "python",
   "pygments_lexer": "ipython3",
   "version": "3.7.1"
  }
 },
 "nbformat": 4,
 "nbformat_minor": 2
}
