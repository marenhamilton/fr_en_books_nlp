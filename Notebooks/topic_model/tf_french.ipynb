{
 "cells": [
  {
   "cell_type": "code",
   "execution_count": 24,
   "metadata": {},
   "outputs": [],
   "source": [
    "import pandas as pd\n",
    "import numpy as np\n",
    "from sklearn.decomposition import TruncatedSVD,NMF\n",
    "from sklearn.feature_extraction.text import CountVectorizer,TfidfVectorizer\n",
    "from gensim import models, matutils"
   ]
  },
  {
   "cell_type": "code",
   "execution_count": 2,
   "metadata": {},
   "outputs": [],
   "source": [
    "test = pd.read_csv('french_clean.csv')\n",
    "test = test.clean"
   ]
  },
  {
   "cell_type": "code",
   "execution_count": 14,
   "metadata": {},
   "outputs": [],
   "source": [
    "def display_topics(model, feature_names, no_top_words, topic_names=None):\n",
    "    for ix, topic in enumerate(model.components_):\n",
    "        if not topic_names or not topic_names[ix]:\n",
    "            print(\"\\nTopic \", ix)\n",
    "        else:\n",
    "            print(\"\\nTopic: '\",topic_names[ix],\"'\")\n",
    "        print(\", \".join([feature_names[i]\n",
    "                        for i in topic.argsort()[:-no_top_words - 1:-1]]))\n",
    "        \n",
    "# words that don't help\n",
    "stops = ['madeleine','ben','caroline','catherine','alexandre','germain','henry','ann','thérèse','marguerite',\n",
    "         'mme','comte','comtesse','docteur','capitaine','duc','prince','miss','sir','sire','marquis','mademoiselle','baron',\n",
    "         'colonel','abbé','oncle','reine','maman','curé','tante','cousin','papa','duchesse','baronne','indien','princesse',\n",
    "         'lady','lord','mme','mmlle'\n",
    "         'coeur','don','île','navire','hé','canadien','cardinal','chevalier','police','vicomte',\n",
    "         'toutefois','alentour','encor','relativement',\n",
    "         'répéta','répliqua']"
   ]
  },
  {
   "cell_type": "code",
   "execution_count": 15,
   "metadata": {},
   "outputs": [],
   "source": [
    "tf = TfidfVectorizer(min_df=.05,max_df=.65,stop_words=stops)\n",
    "tf_test = tf.fit_transform(test)"
   ]
  },
  {
   "cell_type": "markdown",
   "metadata": {},
   "source": [
    "# LSA Model\n",
    "Some okay topics, but overall pretty weak."
   ]
  },
  {
   "cell_type": "code",
   "execution_count": 27,
   "metadata": {},
   "outputs": [],
   "source": [
    "lsa = TruncatedSVD(10,random_state=8,n_iter=10)"
   ]
  },
  {
   "cell_type": "code",
   "execution_count": 28,
   "metadata": {},
   "outputs": [],
   "source": [
    "doc_topic = lsa.fit_transform(tf_test)"
   ]
  },
  {
   "cell_type": "code",
   "execution_count": 29,
   "metadata": {},
   "outputs": [
    {
     "name": "stdout",
     "output_type": "stream",
     "text": [
      "\n",
      "Topic  0\n",
      "monseigneur, amant, prêtre, coeur, bureau, président, empereur, fusil, ministre, neige\n",
      "\n",
      "Topic  1\n",
      "monseigneur, gentilhomme, citoyen, mousquetaire, prisonnier, moine, épée, maréchal, empereur, royal\n",
      "\n",
      "Topic  2\n",
      "coeur, matelot, chasseur, fusil, rocher, canot, troupe, plaine, commandant, vaisseau\n",
      "\n",
      "Topic  3\n",
      "coeur, amant, soeur, poète, poésie, oeuvre, monseigneur, artiste, chère, vanité\n",
      "\n",
      "Topic  4\n",
      "citoyen, république, politique, national, révolution, gouvernement, patriote, nation, empereur, républicain\n",
      "\n",
      "Topic  5\n",
      "coeur, soeur, oeuvre, commissaire, agent, auto, inspecteur, assassin, président, directeur\n",
      "\n",
      "Topic  6\n",
      "matelot, chasseur, vaisseau, canot, guerrier, chaloupe, marin, gouverneur, commandant, pirate\n",
      "\n",
      "Topic  7\n",
      "monseigneur, poète, auto, temple, matelot, mousquetaire, chinois, mosquée, japonais, palais\n",
      "\n",
      "Topic  8\n",
      "matelot, notaire, marin, vaisseau, chaloupe, canot, équipage, bateau, bâtiment, etc\n",
      "\n",
      "Topic  9\n",
      "matelot, commandant, amant, empereur, peintre, marin, bal, loge, vaisseau, boulevard\n"
     ]
    }
   ],
   "source": [
    "display_topics(lsa,tf.get_feature_names(),10)"
   ]
  },
  {
   "cell_type": "markdown",
   "metadata": {},
   "source": [
    "# NMF model\n",
    "Pretty decent topics (I went with the count vectorised in the end, however, because I felt its topics were more broadly representative)."
   ]
  },
  {
   "cell_type": "code",
   "execution_count": 20,
   "metadata": {},
   "outputs": [],
   "source": [
    "nmf = NMF(random_state=8,shuffle=True,n_components=14)\n",
    "doc_topic = nmf.fit_transform(tf_test)"
   ]
  },
  {
   "cell_type": "code",
   "execution_count": 21,
   "metadata": {},
   "outputs": [
    {
     "name": "stdout",
     "output_type": "stream",
     "text": [
      "\n",
      "Topic  0\n",
      "atelier, café, trottoir, boulevard, bureau, gentil, gare, ventre, peintre, sale, patron, gamin, parisien, wagon, caresse\n",
      "\n",
      "Topic  1\n",
      "monseigneur, mousquetaire, gentilhomme, carrosse, épée, moine, régent, maréchal, éper, laquais, valet, cavalier, royal, dauphin, milord\n",
      "\n",
      "Topic  2\n",
      "loup, fermier, neige, vache, maire, paroisse, bourg, messe, prêtre, métayer, moulin, blé, pré, notaire, grange\n",
      "\n",
      "Topic  3\n",
      "notaire, rente, président, banquier, politique, amant, parisien, artiste, avoué, ministre, million, procureur, avocat, province, peintre\n",
      "\n",
      "Topic  4\n",
      "citoyen, république, patriote, national, marat, révolution, assemblée, président, républicain, convention, jacobin, prisonnier, royaliste, ministre, tuilerie\n",
      "\n",
      "Topic  5\n",
      "coeur, soeur, oeuvre, pèlerin, amant, volupté, harpe, palais, cadavre, royal, démon, blanche, huguenot, poète, violon\n",
      "\n",
      "Topic  6\n",
      "chasseur, guerrier, ours, bandit, troupe, camp, fusil, prairie, prisonnier, tribu, cavalier, rocher, pirate, moine, hutte\n",
      "\n",
      "Topic  7\n",
      "temple, mosquée, marbre, palais, plaine, sable, prêtre, antique, arabe, granit, infini, vallée, turc, japonais, poète\n",
      "\n",
      "Topic  8\n",
      "matelot, vaisseau, marin, canot, chaloupe, équipage, bâtiment, bateau, frégate, barque, embarcation, commandant, port, rivage, mât\n",
      "\n",
      "Topic  9\n",
      "etc, dollar, principe, politique, système, matière, poète, lecteur, social, individu, gouvernement, américain, classe, humanité, ingénieur\n",
      "\n",
      "Topic  10\n",
      "auto, inspecteur, agent, assassin, commissaire, instruction, revolver, complice, policier, enquête, automobile, bureau, chauffeur, villa, avocat\n",
      "\n",
      "Topic  11\n",
      "prussien, major, commandant, lieutenant, fusil, canon, bataillon, allemand, régiment, sergent, baïonnette, hussard, sabre, tranchée, obu\n",
      "\n",
      "Topic  12\n",
      "empereur, russe, palais, juif, chrétien, esclave, ministre, maréchal, impérial, temple, trône, pape, polonais, amiral, romain\n",
      "\n",
      "Topic  13\n",
      "chère, nièce, amant, thé, chéri, témoigner, répondi, époux, piano, bal, entretien, demoiselle, écriai, parc, espère\n"
     ]
    }
   ],
   "source": [
    "display_topics(nmf,tf.get_feature_names(), 15)"
   ]
  },
  {
   "cell_type": "markdown",
   "metadata": {},
   "source": [
    "# LDA\n",
    "This doesn't work well because my books are not based on topics for the most part - many of them will include multiple topics."
   ]
  },
  {
   "cell_type": "code",
   "execution_count": 30,
   "metadata": {},
   "outputs": [],
   "source": [
    "tft = tf_test.transpose()"
   ]
  },
  {
   "cell_type": "code",
   "execution_count": 33,
   "metadata": {},
   "outputs": [],
   "source": [
    "corpus = matutils.Sparse2Corpus(tft)\n",
    "id2word = dict((v, k) for k, v in tf.vocabulary_.items())"
   ]
  },
  {
   "cell_type": "code",
   "execution_count": 42,
   "metadata": {},
   "outputs": [
    {
     "data": {
      "text/plain": [
       "[(0,\n",
       "  '0.001*\"coeur\" + 0.001*\"monseigneur\" + 0.001*\"prêtre\" + 0.001*\"amant\" + 0.001*\"bureau\" + 0.001*\"empereur\" + 0.001*\"fusil\" + 0.001*\"président\" + 0.001*\"prisonnier\" + 0.001*\"neige\"'),\n",
       " (1,\n",
       "  '0.000*\"monseigneur\" + 0.000*\"poète\" + 0.000*\"claire\" + 0.000*\"fée\" + 0.000*\"nourrice\" + 0.000*\"ours\" + 0.000*\"atelier\" + 0.000*\"vallée\" + 0.000*\"marie\" + 0.000*\"demoiselle\"'),\n",
       " (2,\n",
       "  '0.000*\"pascal\" + 0.000*\"poète\" + 0.000*\"vengeance\" + 0.000*\"empereur\" + 0.000*\"neige\" + 0.000*\"citoyen\" + 0.000*\"florin\" + 0.000*\"nation\" + 0.000*\"canon\" + 0.000*\"bonhomme\"'),\n",
       " (3,\n",
       "  '0.000*\"monseigneur\" + 0.000*\"neige\" + 0.000*\"artiste\" + 0.000*\"marin\" + 0.000*\"rocher\" + 0.000*\"major\" + 0.000*\"publier\" + 0.000*\"lecteur\" + 0.000*\"chasseur\" + 0.000*\"bourse\"'),\n",
       " (4,\n",
       "  '0.000*\"archer\" + 0.000*\"prêtre\" + 0.000*\"coeur\" + 0.000*\"monseigneur\" + 0.000*\"nation\" + 0.000*\"savant\" + 0.000*\"gendarme\" + 0.000*\"commandant\" + 0.000*\"dépit\" + 0.000*\"gentilhomme\"'),\n",
       " (5,\n",
       "  '0.000*\"marat\" + 0.000*\"république\" + 0.000*\"matelot\" + 0.000*\"révolution\" + 0.000*\"ballon\" + 0.000*\"prêtre\" + 0.000*\"politique\" + 0.000*\"lieutenant\" + 0.000*\"million\" + 0.000*\"président\"'),\n",
       " (6,\n",
       "  '0.000*\"coeur\" + 0.000*\"tampon\" + 0.000*\"jadis\" + 0.000*\"valet\" + 0.000*\"inventeur\" + 0.000*\"messe\" + 0.000*\"veuve\" + 0.000*\"horloge\" + 0.000*\"bourgeois\" + 0.000*\"chasseur\"'),\n",
       " (7,\n",
       "  '0.000*\"sarrasin\" + 0.000*\"boulevard\" + 0.000*\"port\" + 0.000*\"café\" + 0.000*\"talent\" + 0.000*\"sublime\" + 0.000*\"sinistre\" + 0.000*\"bourg\" + 0.000*\"interrompit\" + 0.000*\"juif\"'),\n",
       " (8,\n",
       "  '0.000*\"comète\" + 0.000*\"coeur\" + 0.000*\"président\" + 0.000*\"temple\" + 0.000*\"prêtre\" + 0.000*\"poète\" + 0.000*\"lion\" + 0.000*\"empereur\" + 0.000*\"assemblée\" + 0.000*\"effrayant\"'),\n",
       " (9,\n",
       "  '0.002*\"dauphin\" + 0.001*\"xv\" + 0.001*\"régent\" + 0.001*\"tuteur\" + 0.001*\"nain\" + 0.001*\"oeuvre\" + 0.001*\"césar\" + 0.001*\"bûcheron\" + 0.001*\"polonais\" + 0.001*\"jument\"'),\n",
       " (10,\n",
       "  '0.000*\"monseigneur\" + 0.000*\"gentilhomme\" + 0.000*\"citoyen\" + 0.000*\"empereur\" + 0.000*\"philosophe\" + 0.000*\"temple\" + 0.000*\"savant\" + 0.000*\"national\" + 0.000*\"nation\" + 0.000*\"concierge\"'),\n",
       " (11,\n",
       "  '0.000*\"régent\" + 0.000*\"propriété\" + 0.000*\"monseigneur\" + 0.000*\"citoyen\" + 0.000*\"fée\" + 0.000*\"gouverneur\" + 0.000*\"bateau\" + 0.000*\"bonhomme\" + 0.000*\"chat\" + 0.000*\"prisonnier\"'),\n",
       " (12,\n",
       "  '0.000*\"bis\" + 0.000*\"million\" + 0.000*\"rocher\" + 0.000*\"monseigneur\" + 0.000*\"procureur\" + 0.000*\"empereur\" + 0.000*\"gentleman\" + 0.000*\"néanmoins\" + 0.000*\"vallée\" + 0.000*\"etc\"')]"
      ]
     },
     "execution_count": 42,
     "metadata": {},
     "output_type": "execute_result"
    }
   ],
   "source": [
    "lda = models.LdaModel(corpus=corpus, num_topics=13, id2word=id2word, passes=100,random_state=8)\n",
    "lda.print_topics()"
   ]
  },
  {
   "cell_type": "code",
   "execution_count": null,
   "metadata": {},
   "outputs": [],
   "source": []
  }
 ],
 "metadata": {
  "kernelspec": {
   "display_name": "Python 3",
   "language": "python",
   "name": "python3"
  },
  "language_info": {
   "codemirror_mode": {
    "name": "ipython",
    "version": 3
   },
   "file_extension": ".py",
   "mimetype": "text/x-python",
   "name": "python",
   "nbconvert_exporter": "python",
   "pygments_lexer": "ipython3",
   "version": "3.7.1"
  }
 },
 "nbformat": 4,
 "nbformat_minor": 2
}
